{
 "cells": [
  {
   "cell_type": "markdown",
   "metadata": {},
   "source": [
    "# IMDb Binary Classification Example\n",
    "\n",
    "From the book [\"Deep Learning with Python\"](https://www.manning.com/books/deep-learning-with-python) by Francois Chollet\n",
    "\n",
    "Two-class classification or binary classification is some of the most common types of machine learning problems an analysts will encounter in the real world. I have used this method in sales operations to look at what sales opportunities are likley to close to seeing when a customer is likely to leave in what is know as churn."
   ]
  },
  {
   "cell_type": "markdown",
   "metadata": {},
   "source": [
    "### The IMDb Data-Set\n",
    "\n",
    "The Internet Movie Database is an online database that houses information about movies, televsion shows and video games. This dataset has a set of 50K highly polarized reviews. The reviews are spilt into 25K reviews for training and 25K for testing. Each set contains a review mix of 50% positive and 50% negative.\n",
    "\n",
    "This data has already been preprocessed. The reviews have been turned into sequences of integers. Each integer repersents a word in a dictionary."
   ]
  },
  {
   "cell_type": "markdown",
   "metadata": {},
   "source": [
    "#### Load the data\n",
    "\n",
    "This data comes prepackaged with Keras. You can load the code with the below:"
   ]
  },
  {
   "cell_type": "code",
   "execution_count": 4,
   "metadata": {},
   "outputs": [],
   "source": [
    "from keras.datasets import imdb"
   ]
  },
  {
   "cell_type": "code",
   "execution_count": 5,
   "metadata": {},
   "outputs": [],
   "source": [
    "(train_data, train_labels), (test_data, test_labels) = imdb.load_data(num_words = 10000)"
   ]
  },
  {
   "cell_type": "markdown",
   "metadata": {},
   "source": [
    "So the `num_words = 10000` takes the top 10K words by frequency in the training data, basically meaning the rare words will be removed. This means that our data will more of a managable size to work with."
   ]
  },
  {
   "cell_type": "markdown",
   "metadata": {},
   "source": [
    "#### Take A Quick Look\n",
    "\n",
    "`train_data` and `test_data` are lists of reviews. So each review is a list of word indices with an encoding of a sequence of words. The labels `train_labels` and `test_labels` are lists of 0s and 1s where 0 stands for *negative* review and 1 is a *positive* review."
   ]
  },
  {
   "cell_type": "code",
   "execution_count": 6,
   "metadata": {},
   "outputs": [
    {
     "data": {
      "text/plain": [
       "[1,\n",
       " 14,\n",
       " 47,\n",
       " 8,\n",
       " 30,\n",
       " 31,\n",
       " 7,\n",
       " 4,\n",
       " 249,\n",
       " 108,\n",
       " 7,\n",
       " 4,\n",
       " 5974,\n",
       " 54,\n",
       " 61,\n",
       " 369,\n",
       " 13,\n",
       " 71,\n",
       " 149,\n",
       " 14,\n",
       " 22,\n",
       " 112,\n",
       " 4,\n",
       " 2401,\n",
       " 311,\n",
       " 12,\n",
       " 16,\n",
       " 3711,\n",
       " 33,\n",
       " 75,\n",
       " 43,\n",
       " 1829,\n",
       " 296,\n",
       " 4,\n",
       " 86,\n",
       " 320,\n",
       " 35,\n",
       " 534,\n",
       " 19,\n",
       " 263,\n",
       " 4821,\n",
       " 1301,\n",
       " 4,\n",
       " 1873,\n",
       " 33,\n",
       " 89,\n",
       " 78,\n",
       " 12,\n",
       " 66,\n",
       " 16,\n",
       " 4,\n",
       " 360,\n",
       " 7,\n",
       " 4,\n",
       " 58,\n",
       " 316,\n",
       " 334,\n",
       " 11,\n",
       " 4,\n",
       " 1716,\n",
       " 43,\n",
       " 645,\n",
       " 662,\n",
       " 8,\n",
       " 257,\n",
       " 85,\n",
       " 1200,\n",
       " 42,\n",
       " 1228,\n",
       " 2578,\n",
       " 83,\n",
       " 68,\n",
       " 3912,\n",
       " 15,\n",
       " 36,\n",
       " 165,\n",
       " 1539,\n",
       " 278,\n",
       " 36,\n",
       " 69,\n",
       " 2,\n",
       " 780,\n",
       " 8,\n",
       " 106,\n",
       " 14,\n",
       " 6905,\n",
       " 1338,\n",
       " 18,\n",
       " 6,\n",
       " 22,\n",
       " 12,\n",
       " 215,\n",
       " 28,\n",
       " 610,\n",
       " 40,\n",
       " 6,\n",
       " 87,\n",
       " 326,\n",
       " 23,\n",
       " 2300,\n",
       " 21,\n",
       " 23,\n",
       " 22,\n",
       " 12,\n",
       " 272,\n",
       " 40,\n",
       " 57,\n",
       " 31,\n",
       " 11,\n",
       " 4,\n",
       " 22,\n",
       " 47,\n",
       " 6,\n",
       " 2307,\n",
       " 51,\n",
       " 9,\n",
       " 170,\n",
       " 23,\n",
       " 595,\n",
       " 116,\n",
       " 595,\n",
       " 1352,\n",
       " 13,\n",
       " 191,\n",
       " 79,\n",
       " 638,\n",
       " 89,\n",
       " 2,\n",
       " 14,\n",
       " 9,\n",
       " 8,\n",
       " 106,\n",
       " 607,\n",
       " 624,\n",
       " 35,\n",
       " 534,\n",
       " 6,\n",
       " 227,\n",
       " 7,\n",
       " 129,\n",
       " 113]"
      ]
     },
     "execution_count": 6,
     "metadata": {},
     "output_type": "execute_result"
    }
   ],
   "source": [
    "train_data[2]"
   ]
  },
  {
   "cell_type": "code",
   "execution_count": 7,
   "metadata": {},
   "outputs": [
    {
     "data": {
      "text/plain": [
       "array([1, 0, 0, 1, 0])"
      ]
     },
     "execution_count": 7,
     "metadata": {},
     "output_type": "execute_result"
    }
   ],
   "source": [
    "train_labels[0:5]"
   ]
  },
  {
   "cell_type": "markdown",
   "metadata": {},
   "source": [
    "We should not have a word value that goes over 10K in our `train_data`"
   ]
  },
  {
   "cell_type": "code",
   "execution_count": 8,
   "metadata": {},
   "outputs": [
    {
     "data": {
      "text/plain": [
       "9999"
      ]
     },
     "execution_count": 8,
     "metadata": {},
     "output_type": "execute_result"
    }
   ],
   "source": [
    "max([max(sequence) for sequence in train_data])"
   ]
  },
  {
   "cell_type": "markdown",
   "metadata": {},
   "source": [
    "What are these numbers in english? Below is a decoder."
   ]
  },
  {
   "cell_type": "code",
   "execution_count": 9,
   "metadata": {
    "collapsed": true
   },
   "outputs": [],
   "source": [
    "word_index = imdb.get_word_index() #word_index is a dictionary mapping\n",
    "reverse_word_index = dict(\n",
    "[(value, key) for (key, value) in word_index.items()])\n",
    "decoded_review = ' '.join(\n",
    "reverse_word_index.get(i - 3, '?') for i in train_data[2])"
   ]
  },
  {
   "cell_type": "code",
   "execution_count": 10,
   "metadata": {},
   "outputs": [
    {
     "data": {
      "text/plain": [
       "\"? this has to be one of the worst films of the 1990s when my friends i were watching this film being the target audience it was aimed at we just sat watched the first half an hour with our jaws touching the floor at how bad it really was the rest of the time everyone else in the theatre just started talking to each other leaving or generally crying into their popcorn that they actually paid money they had ? working to watch this feeble excuse for a film it must have looked like a great idea on paper but on film it looks like no one in the film has a clue what is going on crap acting crap costumes i can't get across how ? this is to watch save yourself an hour a bit of your life\""
      ]
     },
     "execution_count": 10,
     "metadata": {},
     "output_type": "execute_result"
    }
   ],
   "source": [
    "decoded_review"
   ]
  },
  {
   "cell_type": "markdown",
   "metadata": {
    "collapsed": true
   },
   "source": [
    "### Data Preperation\n",
    "\n",
    "We can not use list of integers into a neural network. These lists need to be transformed into tensors. There are a couple of ways in which to do this.\n",
    "1. Pad the lists to ensure that they are all the same length. We would then use that as the first layer in the network. This would be known as an Embedding Layer.\n",
    "2. We could One-hot encode the lists to turn them into vectors of 0's and 1's. Basically if we take the sequence [3, 5] into a 10K dimensional vector that would be all 0's with exception of of indices 3 and 5, which would be 1s. We could then use the first layer in the network as a Dense Layer.\n",
    "\n",
    "We going to move forward with 2. Vectorize the data."
   ]
  },
  {
   "cell_type": "code",
   "execution_count": 11,
   "metadata": {
    "collapsed": true
   },
   "outputs": [],
   "source": [
    "import numpy as np\n",
    "\n",
    "def vectorize_sequences(sequences, dimension = 10000):\n",
    "    results = np.zeros((len(sequences), dimension)) #all zero matrix\n",
    "    for i, sequence in enumerate(sequences):\n",
    "        results[i, sequence] = 1. # Indices of results to 1's\n",
    "    return results\n",
    "# Vectorize train and test data\n",
    "x_train = vectorize_sequences(train_data)\n",
    "x_test = vectorize_sequences(test_data)"
   ]
  },
  {
   "cell_type": "markdown",
   "metadata": {},
   "source": [
    "Lets see what the samples look like now."
   ]
  },
  {
   "cell_type": "code",
   "execution_count": 12,
   "metadata": {},
   "outputs": [
    {
     "data": {
      "text/plain": [
       "array([0., 1., 1., ..., 0., 0., 0.])"
      ]
     },
     "execution_count": 12,
     "metadata": {},
     "output_type": "execute_result"
    }
   ],
   "source": [
    "x_train[0]"
   ]
  },
  {
   "cell_type": "markdown",
   "metadata": {},
   "source": [
    "Vectorize labels as well."
   ]
  },
  {
   "cell_type": "code",
   "execution_count": 13,
   "metadata": {
    "collapsed": true
   },
   "outputs": [],
   "source": [
    "y_train = np.asarray(train_labels).astype('float32')\n",
    "y_test = np.asarray(test_labels).astype('float32')"
   ]
  },
  {
   "cell_type": "markdown",
   "metadata": {},
   "source": [
    "### Construct The Network\n",
    "\n",
    "Our input data is vectors, and the labels are scalars (1's and 0's). A type of network that does well on this problem is a simple stack of fully connected dense layers with relu activations."
   ]
  },
  {
   "cell_type": "markdown",
   "metadata": {},
   "source": [
    "#### Hold on! What is / are relu activations?\n",
    "\n",
    "ReLU, or Rectitified Linear Unit is one of the most commonly used activation functions in deep learning models. Basically the function returns 0 if it gets any negative input. \n",
    "\n",
    "Any positive value *x* it returns that value back.\n",
    "\n",
    "An activation function serves two purposes:\n",
    "1. This helps the model account for interaction effects. *Interactive effects* are when one variable affects a prediction differently depending on the value of another variable. \n",
    "2. It also helps the model account for non-linear effects. The effect of increasing the predictor by one is different at different values of that predictor."
   ]
  },
  {
   "cell_type": "code",
   "execution_count": 14,
   "metadata": {
    "collapsed": true
   },
   "outputs": [],
   "source": [
    "from keras import models\n",
    "from keras import layers\n",
    "\n",
    "model = models.Sequential()\n",
    "model.add(layers.Dense(16, activation='relu', input_shape=(10000,)))\n",
    "model.add(layers.Dense(16, activation='relu'))\n",
    "model.add(layers.Dense(1, activation='sigmoid'))"
   ]
  },
  {
   "cell_type": "markdown",
   "metadata": {},
   "source": [
    "We are passing an arguement to each Dense Layer (16). This is the number of hidden units of the layer. A hidden layer is the dimesnion of the representation space of the layer.\n",
    "\n",
    "Now, back to ReLU activation. The relu implements the following chain of tensor operations:\n",
    "\n",
    "`output = relu(dot(W, input) + b)`\n",
    "\n",
    "With 16 hidden units means that the weight matrix `W` will have shape `(input_dimension, 16)`, the dot product with `W` will project the input data onto a 16-dimensional repersentation space, we also add the bias vector `b`and apply the ReLU operation.\n",
    "\n",
    "Bascially we are giving our young model some freedom with learning internal representaitons. Having more hidden units allows your network to learn more complex representations. This comes at a cost. This could make a network more computationally expensive and could lead to learning unwanted patterns that yes, will help on the training data, but hurt when it comes to test time.\n",
    "\n",
    "We have to key architecture decisions to be made about the stack of dense layers:\n",
    "1. How many layers do we use?\n",
    "2. How many hidden units to chose for each layer.\n",
    "\n",
    "So, for this dataset we are going to use two intermediate layers and a 3rd layer that will output the scalar prediction of the sentiment of the current review.\n",
    "\n",
    "The intermediate layers will use ReLU as their activation function, and for the final layer we will use a sigmoid activation to produce a probaility between 0 and 1 for how likely the review is to be positive."
   ]
  },
  {
   "cell_type": "code",
   "execution_count": 15,
   "metadata": {
    "collapsed": true
   },
   "outputs": [],
   "source": [
    "model.compile(optimizer='rmsprop',\n",
    "              loss='binary_crossentropy',\n",
    "              metrics=['accuracy'])"
   ]
  },
  {
   "cell_type": "markdown",
   "metadata": {},
   "source": [
    "Now we need to pick a **loss function** and an **optimizer** Since we are facing a binary classfication problem and the output of the network is a probability. It would be best to use `binary_crossentropy` loss. This is not the only choice. We could also use `mean_squared_error`. But crossentropy is usually the best choice when you are dealing with models that output probabilties. Crossentropy is a quantity from the field of Information Theory that measures the \"distance\" between probaility distributions."
   ]
  },
  {
   "cell_type": "code",
   "execution_count": 16,
   "metadata": {
    "collapsed": true
   },
   "outputs": [],
   "source": [
    "from keras import optimizers\n",
    "\n",
    "model.compile(optimizer = optimizers.RMSprop(lr = 0.001),\n",
    "             loss = 'binary_crossentropy',\n",
    "             metrics = ['accuracy'])"
   ]
  },
  {
   "cell_type": "markdown",
   "metadata": {},
   "source": [
    "### Validation\n",
    "\n",
    "To monitor the accuracy on our training of the model on data it has never seen before we are going to create a validation set by setting apart 10K samples from the original training data."
   ]
  },
  {
   "cell_type": "code",
   "execution_count": 17,
   "metadata": {
    "collapsed": true
   },
   "outputs": [],
   "source": [
    "x_val = x_train[:10000]\n",
    "partial_x_train = x_train[10000:]\n",
    "\n",
    "y_val = y_train[:10000]\n",
    "partial_y_train = y_train[10000:]"
   ]
  },
  {
   "cell_type": "markdown",
   "metadata": {},
   "source": [
    "Now we will train our model for 20 epochs. This means 20 interations over all samples in the x_train and y_train tensors. In mini-batches of 512 samples. At this time we will monitor loss and accuracy on the 10K samples that we set apart."
   ]
  },
  {
   "cell_type": "code",
   "execution_count": 18,
   "metadata": {},
   "outputs": [
    {
     "name": "stdout",
     "output_type": "stream",
     "text": [
      "Train on 15000 samples, validate on 10000 samples\n",
      "Epoch 1/20\n",
      "15000/15000 [==============================] - 5s 302us/step - loss: 0.4977 - acc: 0.7951 - val_loss: 0.3717 - val_acc: 0.8724\n",
      "Epoch 2/20\n",
      "15000/15000 [==============================] - 2s 120us/step - loss: 0.2958 - acc: 0.9044 - val_loss: 0.2990 - val_acc: 0.8907\n",
      "Epoch 3/20\n",
      "15000/15000 [==============================] - 1s 94us/step - loss: 0.2160 - acc: 0.9285 - val_loss: 0.3084 - val_acc: 0.8718\n",
      "Epoch 4/20\n",
      "15000/15000 [==============================] - 2s 101us/step - loss: 0.1742 - acc: 0.9434 - val_loss: 0.2830 - val_acc: 0.8842\n",
      "Epoch 5/20\n",
      "15000/15000 [==============================] - 2s 107us/step - loss: 0.1415 - acc: 0.9543 - val_loss: 0.2863 - val_acc: 0.8850\n",
      "Epoch 6/20\n",
      "15000/15000 [==============================] - 1s 97us/step - loss: 0.1143 - acc: 0.9653 - val_loss: 0.3094 - val_acc: 0.8809\n",
      "Epoch 7/20\n",
      "15000/15000 [==============================] - 1s 97us/step - loss: 0.0970 - acc: 0.9710 - val_loss: 0.3146 - val_acc: 0.8840\n",
      "Epoch 8/20\n",
      "15000/15000 [==============================] - 1s 94us/step - loss: 0.0803 - acc: 0.9765 - val_loss: 0.3869 - val_acc: 0.8658\n",
      "Epoch 9/20\n",
      "15000/15000 [==============================] - 1s 91us/step - loss: 0.0658 - acc: 0.9819 - val_loss: 0.3651 - val_acc: 0.8778\n",
      "Epoch 10/20\n",
      "15000/15000 [==============================] - 1s 91us/step - loss: 0.0556 - acc: 0.9854 - val_loss: 0.3862 - val_acc: 0.8794\n",
      "Epoch 11/20\n",
      "15000/15000 [==============================] - 1s 91us/step - loss: 0.0449 - acc: 0.9889 - val_loss: 0.4177 - val_acc: 0.8764\n",
      "Epoch 12/20\n",
      "15000/15000 [==============================] - 1s 94us/step - loss: 0.0386 - acc: 0.9913 - val_loss: 0.4525 - val_acc: 0.8697\n",
      "Epoch 13/20\n",
      "15000/15000 [==============================] - 1s 93us/step - loss: 0.0301 - acc: 0.9932 - val_loss: 0.4713 - val_acc: 0.8732\n",
      "Epoch 14/20\n",
      "15000/15000 [==============================] - 1s 93us/step - loss: 0.0244 - acc: 0.9950 - val_loss: 0.5024 - val_acc: 0.8720\n",
      "Epoch 15/20\n",
      "15000/15000 [==============================] - 1s 92us/step - loss: 0.0184 - acc: 0.9975 - val_loss: 0.5335 - val_acc: 0.8693\n",
      "Epoch 16/20\n",
      "15000/15000 [==============================] - 1s 92us/step - loss: 0.0163 - acc: 0.9979 - val_loss: 0.5710 - val_acc: 0.8699\n",
      "Epoch 17/20\n",
      "15000/15000 [==============================] - 1s 92us/step - loss: 0.0110 - acc: 0.9990 - val_loss: 0.6192 - val_acc: 0.8651\n",
      "Epoch 18/20\n",
      "15000/15000 [==============================] - 1s 93us/step - loss: 0.0121 - acc: 0.9971 - val_loss: 0.6420 - val_acc: 0.8669\n",
      "Epoch 19/20\n",
      "15000/15000 [==============================] - 1s 92us/step - loss: 0.0057 - acc: 0.9997 - val_loss: 0.7249 - val_acc: 0.8569\n",
      "Epoch 20/20\n",
      "15000/15000 [==============================] - 1s 96us/step - loss: 0.0107 - acc: 0.9975 - val_loss: 0.7016 - val_acc: 0.8657\n"
     ]
    }
   ],
   "source": [
    "history = model.fit(partial_x_train,\n",
    "                   partial_y_train,\n",
    "                   epochs = 20,\n",
    "                   batch_size = 512,\n",
    "                   validation_data=(x_val, y_val))"
   ]
  },
  {
   "cell_type": "markdown",
   "metadata": {},
   "source": [
    "#### Plots\n",
    "\n",
    "#### Training and Validation Loss"
   ]
  },
  {
   "cell_type": "code",
   "execution_count": 30,
   "metadata": {},
   "outputs": [
    {
     "data": {
      "image/png": "[encoded data removed]",
      "text/plain": [
       "<Figure size 432x288 with 1 Axes>"
      ]
     },
     "metadata": {},
     "output_type": "display_data"
    }
   ],
   "source": [
    "import matplotlib.pyplot as plt \n",
    "\n",
    "history_dict = history.history\n",
    "acc = history.history['acc']\n",
    "val_acc = history.history['val_acc']\n",
    "loss = history.history['loss']\n",
    "val_loss = history.history['val_loss']\n",
    "\n",
    "epochs = range(1, len(acc) + 1)\n",
    "\n",
    "plt.plot(epochs, loss, 'yo', label = 'Training Loss')\n",
    "plt.plot(epochs, val_loss, 'b', label = 'Validation Loss')\n",
    "plt.title('Training and Validation Loss')\n",
    "plt.xlabel('Epochs')\n",
    "plt.ylabel('Loss')\n",
    "plt.legend()\n",
    "\n",
    "plt.show()"
   ]
  },
  {
   "cell_type": "markdown",
   "metadata": {},
   "source": [
    "#### Training and Validation Accuracy"
   ]
  },
  {
   "cell_type": "code",
   "execution_count": 31,
   "metadata": {},
   "outputs": [
    {
     "data": {
      "image/png": "[encoded data removed]",
      "text/plain": [
       "<Figure size 432x288 with 1 Axes>"
      ]
     },
     "metadata": {},
     "output_type": "display_data"
    }
   ],
   "source": [
    "plt.clf() # clears figure\n",
    "\n",
    "acc_values = history_dict['acc']\n",
    "val_acc_values = history_dict['val_acc']\n",
    "\n",
    "plt.plot(epochs, acc, 'yo', label = 'Training Acc')\n",
    "plt.plot(epochs, val_acc, 'b', label = 'Validation Acc')\n",
    "plt.title('Training and Validation Accuracy')\n",
    "plt.xlabel('Epochs')\n",
    "plt.ylabel('Loss')\n",
    "plt.legend()\n",
    "\n",
    "plt.show()"
   ]
  },
  {
   "cell_type": "markdown",
   "metadata": {},
   "source": [
    "The training loss decreases with each epoch. We also see the training accuracy increasing with each epoch. This is what we would expect with running  gradient descent optimization. However, this is not case for the validation and accuracy. We see a peak at the 4th epoch.\n",
    "\n",
    "What we are seeing is overfitting. We are preforming very well on the training data. We may not preform well on the actual data. To prevent over fitting we should look at stopping training at the 3rd or 4th epoch.\n",
    "\n",
    "From here let's train a new network from scratch for 4 epochs and then evaluate it on the test data."
   ]
  },
  {
   "cell_type": "code",
   "execution_count": 34,
   "metadata": {},
   "outputs": [
    {
     "name": "stdout",
     "output_type": "stream",
     "text": [
      "Epoch 1/4\n",
      "25000/25000 [==============================] - 3s 135us/step - loss: 0.4584 - acc: 0.8134\n",
      "Epoch 2/4\n",
      "25000/25000 [==============================] - 2s 72us/step - loss: 0.2630 - acc: 0.9094\n",
      "Epoch 3/4\n",
      "25000/25000 [==============================] - 2s 63us/step - loss: 0.2005 - acc: 0.9282\n",
      "Epoch 4/4\n",
      "25000/25000 [==============================] - 2s 64us/step - loss: 0.1684 - acc: 0.9391\n",
      "25000/25000 [==============================] - 3s 136us/step\n"
     ]
    }
   ],
   "source": [
    "model = models.Sequential()\n",
    "model.add(layers.Dense(16, activation = 'relu', input_shape = (10000,)))\n",
    "model.add(layers.Dense(16, activation = 'relu'))\n",
    "model.add(layers.Dense(1, activation = 'sigmoid'))\n",
    "\n",
    "model.compile(optimizer = 'rmsprop',\n",
    "             loss = 'binary_crossentropy',\n",
    "             metrics = ['accuracy'])\n",
    "\n",
    "model.fit(x_train, y_train, epochs = 4, batch_size = 512)\n",
    "results = model.evaluate(x_test, y_test)"
   ]
  },
  {
   "cell_type": "code",
   "execution_count": 35,
   "metadata": {},
   "outputs": [
    {
     "data": {
      "text/plain": [
       "[0.29910341285705566, 0.88244]"
      ]
     },
     "execution_count": 35,
     "metadata": {},
     "output_type": "execute_result"
    }
   ],
   "source": [
    "results"
   ]
  },
  {
   "cell_type": "markdown",
   "metadata": {},
   "source": [
    "This simple model gets us to an accuracy of 88%. "
   ]
  },
  {
   "cell_type": "markdown",
   "metadata": {},
   "source": [
    "#### Using the Trained Network to Predict New Data"
   ]
  },
  {
   "cell_type": "code",
   "execution_count": 36,
   "metadata": {},
   "outputs": [
    {
     "data": {
      "text/plain": [
       "array([[0.21108744],\n",
       "       [0.9994911 ],\n",
       "       [0.9300454 ],\n",
       "       ...,\n",
       "       [0.14301935],\n",
       "       [0.10310318],\n",
       "       [0.7057855 ]], dtype=float32)"
      ]
     },
     "execution_count": 36,
     "metadata": {},
     "output_type": "execute_result"
    }
   ],
   "source": [
    "model.predict(x_test)"
   ]
  },
  {
   "cell_type": "markdown",
   "metadata": {},
   "source": [
    "A mixed bag so to speak. We have some where we are over 99% confident and some not so confident 14% and 10%"
   ]
  },
  {
   "cell_type": "markdown",
   "metadata": {},
   "source": [
    "### Let's Play Around\n",
    "\n",
    "Let's look at a 32 units and see what we get."
   ]
  },
  {
   "cell_type": "code",
   "execution_count": 37,
   "metadata": {},
   "outputs": [
    {
     "name": "stdout",
     "output_type": "stream",
     "text": [
      "Epoch 1/20\n",
      "25000/25000 [==============================] - 4s 148us/step - loss: 0.4429 - acc: 0.8141\n",
      "Epoch 2/20\n",
      "25000/25000 [==============================] - 2s 78us/step - loss: 0.2490 - acc: 0.9102\n",
      "Epoch 3/20\n",
      "25000/25000 [==============================] - 2s 78us/step - loss: 0.1912 - acc: 0.9309\n",
      "Epoch 4/20\n",
      "25000/25000 [==============================] - 2s 78us/step - loss: 0.1607 - acc: 0.9417\n",
      "Epoch 5/20\n",
      "25000/25000 [==============================] - 2s 79us/step - loss: 0.1358 - acc: 0.9509\n",
      "Epoch 6/20\n",
      "25000/25000 [==============================] - 2s 78us/step - loss: 0.1156 - acc: 0.9601\n",
      "Epoch 7/20\n",
      "25000/25000 [==============================] - 2s 79us/step - loss: 0.0944 - acc: 0.9678\n",
      "Epoch 8/20\n",
      "25000/25000 [==============================] - 2s 83us/step - loss: 0.0766 - acc: 0.9751\n",
      "Epoch 9/20\n",
      "25000/25000 [==============================] - 2s 77us/step - loss: 0.0647 - acc: 0.9789\n",
      "Epoch 10/20\n",
      "25000/25000 [==============================] - 2s 76us/step - loss: 0.0497 - acc: 0.9849\n",
      "Epoch 11/20\n",
      "25000/25000 [==============================] - 2s 78us/step - loss: 0.0431 - acc: 0.9869\n",
      "Epoch 12/20\n",
      "25000/25000 [==============================] - 2s 77us/step - loss: 0.0289 - acc: 0.9923\n",
      "Epoch 13/20\n",
      "25000/25000 [==============================] - 2s 79us/step - loss: 0.0246 - acc: 0.9933\n",
      "Epoch 14/20\n",
      "25000/25000 [==============================] - 2s 77us/step - loss: 0.0187 - acc: 0.9948\n",
      "Epoch 15/20\n",
      "25000/25000 [==============================] - 2s 76us/step - loss: 0.0136 - acc: 0.9959\n",
      "Epoch 16/20\n",
      "25000/25000 [==============================] - 2s 76us/step - loss: 0.0110 - acc: 0.9973\n",
      "Epoch 17/20\n",
      "25000/25000 [==============================] - 2s 76us/step - loss: 0.0118 - acc: 0.9967\n",
      "Epoch 18/20\n",
      "25000/25000 [==============================] - 2s 76us/step - loss: 0.0108 - acc: 0.9972\n",
      "Epoch 19/20\n",
      "25000/25000 [==============================] - 2s 77us/step - loss: 0.0017 - acc: 0.9999\n",
      "Epoch 20/20\n",
      "25000/25000 [==============================] - 2s 77us/step - loss: 0.0105 - acc: 0.9971\n",
      "25000/25000 [==============================] - 4s 140us/step\n"
     ]
    }
   ],
   "source": [
    "model = models.Sequential()\n",
    "model.add(layers.Dense(32, activation = 'relu', input_shape = (10000,)))\n",
    "model.add(layers.Dense(32, activation = 'relu'))\n",
    "model.add(layers.Dense(1, activation = 'sigmoid'))\n",
    "\n",
    "model.compile(optimizer = 'rmsprop',\n",
    "             loss = 'binary_crossentropy',\n",
    "             metrics = ['accuracy'])\n",
    "\n",
    "model.fit(x_train, y_train, epochs = 20, batch_size = 512)\n",
    "results = model.evaluate(x_test, y_test)"
   ]
  },
  {
   "cell_type": "markdown",
   "metadata": {},
   "source": [
    "Run it at 6 epochs"
   ]
  },
  {
   "cell_type": "code",
   "execution_count": 41,
   "metadata": {},
   "outputs": [
    {
     "name": "stdout",
     "output_type": "stream",
     "text": [
      "Epoch 1/6\n",
      "25000/25000 [==============================] - 3s 111us/step - loss: 0.4250 - acc: 0.8211 0s - loss: 0.4339 - acc: 0.8\n",
      "Epoch 2/6\n",
      "25000/25000 [==============================] - 2s 81us/step - loss: 0.2425 - acc: 0.9096\n",
      "Epoch 3/6\n",
      "25000/25000 [==============================] - 2s 75us/step - loss: 0.1882 - acc: 0.9312\n",
      "Epoch 4/6\n",
      "25000/25000 [==============================] - 2s 74us/step - loss: 0.1609 - acc: 0.9413\n",
      "Epoch 5/6\n",
      "25000/25000 [==============================] - 2s 74us/step - loss: 0.1339 - acc: 0.9515\n",
      "Epoch 6/6\n",
      "25000/25000 [==============================] - 2s 78us/step - loss: 0.1142 - acc: 0.9596\n",
      "25000/25000 [==============================] - 2s 69us/step\n"
     ]
    }
   ],
   "source": [
    "model = models.Sequential()\n",
    "model.add(layers.Dense(32, activation = 'relu', input_shape = (10000,)))\n",
    "model.add(layers.Dense(32, activation = 'relu'))\n",
    "model.add(layers.Dense(1, activation = 'sigmoid'))\n",
    "\n",
    "model.compile(optimizer = 'rmsprop',\n",
    "             loss = 'binary_crossentropy',\n",
    "             metrics = ['accuracy'])\n",
    "\n",
    "model.fit(x_train, y_train, epochs = 6, batch_size = 512)\n",
    "results = model.evaluate(x_test, y_test)"
   ]
  },
  {
   "cell_type": "code",
   "execution_count": 42,
   "metadata": {},
   "outputs": [
    {
     "data": {
      "text/plain": [
       "[0.39541492454051974, 0.86376]"
      ]
     },
     "execution_count": 42,
     "metadata": {},
     "output_type": "execute_result"
    }
   ],
   "source": [
    "results"
   ]
  },
  {
   "cell_type": "code",
   "execution_count": 43,
   "metadata": {},
   "outputs": [
    {
     "data": {
      "text/plain": [
       "array([[0.06758171],\n",
       "       [0.9999454 ],\n",
       "       [0.08931085],\n",
       "       ...,\n",
       "       [0.0836112 ],\n",
       "       [0.01680896],\n",
       "       [0.5658204 ]], dtype=float32)"
      ]
     },
     "execution_count": 43,
     "metadata": {},
     "output_type": "execute_result"
    }
   ],
   "source": [
    "model.predict(x_test)"
   ]
  },
  {
   "cell_type": "markdown",
   "metadata": {},
   "source": [
    "Again, another mixed bag. We can play around some more later."
   ]
  },
  {
   "cell_type": "code",
   "execution_count": null,
   "metadata": {
    "collapsed": true
   },
   "outputs": [],
   "source": []
  }
 ],
 "metadata": {
  "kernelspec": {
   "display_name": "Python 3",
   "language": "python",
   "name": "python3"
  },
  "language_info": {
   "codemirror_mode": {
    "name": "ipython",
    "version": 3
   },
   "file_extension": ".py",
   "mimetype": "text/x-python",
   "name": "python",
   "nbconvert_exporter": "python",
   "pygments_lexer": "ipython3",
   "version": "3.6.1"
  }
 },
 "nbformat": 4,
 "nbformat_minor": 2
}
